{
 "cells": [
  {
   "cell_type": "code",
   "execution_count": 1,
   "metadata": {},
   "outputs": [
    {
     "name": "stderr",
     "output_type": "stream",
     "text": [
      "c:\\users\\dp29\\appdata\\local\\programs\\python\\python39\\lib\\site-packages\\bs4\\element.py:15: UserWarning: The soupsieve package is not installed. CSS selectors cannot be used.\n",
      "  warnings.warn(\n"
     ]
    }
   ],
   "source": [
    "import os, random, sys, time\n",
    "from selenium import webdriver\n",
    "from bs4 import BeautifulSoup"
   ]
  },
  {
   "cell_type": "code",
   "execution_count": 2,
   "metadata": {},
   "outputs": [
    {
     "name": "stdout",
     "output_type": "stream",
     "text": [
      "got driver successfully\n"
     ]
    }
   ],
   "source": [
    "browser = webdriver.Chrome('driver/chromedriver.exe')\n",
    "print('got driver successfully')"
   ]
  },
  {
   "cell_type": "code",
   "execution_count": 3,
   "metadata": {},
   "outputs": [],
   "source": [
    "browser.get('https://www.linkedin.com/uas/login')"
   ]
  },
  {
   "cell_type": "code",
   "execution_count": 4,
   "metadata": {},
   "outputs": [
    {
     "name": "stdin",
     "output_type": "stream",
     "text": [
      "enter your username or email dheerajpooni29\n",
      "enter your password 9828413830@Dp!\n"
     ]
    }
   ],
   "source": [
    "# file = open('config.txt')\n",
    "# lines = file.readlines()\n",
    "username = input(\"enter your username or email\")\n",
    "password = input(\"enter your password\")"
   ]
  },
  {
   "cell_type": "code",
   "execution_count": 6,
   "metadata": {},
   "outputs": [
    {
     "name": "stdout",
     "output_type": "stream",
     "text": [
      "login success\n"
     ]
    }
   ],
   "source": [
    "try:\n",
    "    elementID = browser.find_element_by_id('username')\n",
    "    elementID.send_keys(username)\n",
    "\n",
    "    elementID = browser.find_element_by_id('password')\n",
    "    elementID.send_keys(password)\n",
    "\n",
    "    elementID.submit()\n",
    "    print('login success')\n",
    "except:\n",
    "    print('provide username or password is incorrect')\n",
    "    print('for more info open chrome driver')"
   ]
  },
  {
   "cell_type": "code",
   "execution_count": 7,
   "metadata": {},
   "outputs": [],
   "source": [
    "client_linkedin_connection_url = 'https://www.linkedin.com/mynetwork/invite-connect/connections/'"
   ]
  },
  {
   "cell_type": "code",
   "execution_count": 8,
   "metadata": {},
   "outputs": [],
   "source": [
    "browser.get(client_linkedin_connection_url)"
   ]
  },
  {
   "cell_type": "code",
   "execution_count": 16,
   "metadata": {},
   "outputs": [],
   "source": [
    "soup = BeautifulSoup(browser.page_source, 'html.parser')\n",
    "data = soup.prettify()"
   ]
  },
  {
   "cell_type": "code",
   "execution_count": 17,
   "metadata": {},
   "outputs": [],
   "source": [
    "with open(r\"page1.txt\" ,\"w\") as file:\n",
    "    file. truncate(0)\n",
    "    file.write(str(data.encode('utf8')))\n",
    "    file.close()"
   ]
  },
  {
   "cell_type": "code",
   "execution_count": 22,
   "metadata": {},
   "outputs": [],
   "source": [
    "connection_div = soup.find(\"div\", {\"id\": \"ember58\"})\n",
    "# print(connection_div)"
   ]
  },
  {
   "cell_type": "code",
   "execution_count": 23,
   "metadata": {},
   "outputs": [
    {
     "name": "stdout",
     "output_type": "stream",
     "text": [
      "81\n"
     ]
    }
   ],
   "source": [
    "connection_list = connection_div.find_next('ul').find_all('li')\n",
    "print(len(connection_div.ul))\n",
    "# print(connection_list)"
   ]
  },
  {
   "cell_type": "code",
   "execution_count": 24,
   "metadata": {},
   "outputs": [
    {
     "name": "stdout",
     "output_type": "stream",
     "text": [
      "name =  rakhi sharma\n",
      "id =  /in/rakhi-sharma-20248382/\n",
      "profile url =  https://www.linkedin.com/in/rakhi-sharma-20248382/\n"
     ]
    }
   ],
   "source": [
    "connection = connection_list[0]\n",
    "con_name = connection.find('span', {\"class\": \"mn-connection-card__name\"}).text.lstrip().rstrip()\n",
    "con_id = connection.a['href']\n",
    "con_profile = 'https://www.linkedin.com'+con_id\n",
    "print('name = ', con_name)\n",
    "print('id = ', con_id)\n",
    "print('profile url = ', con_profile)"
   ]
  },
  {
   "cell_type": "code",
   "execution_count": 25,
   "metadata": {},
   "outputs": [
    {
     "name": "stdout",
     "output_type": "stream",
     "text": [
      "[['S.NO', 'NAME', 'ID', 'PROFILE_URL'], [1, 'rakhi sharma', '/in/rakhi-sharma-20248382/', 'https://www.linkedin.com/in/rakhi-sharma-20248382/'], [2, 'Ayushi Bhargava', '/in/ayushi-bhargava-6b7100171/', 'https://www.linkedin.com/in/ayushi-bhargava-6b7100171/'], [3, 'Sakshi Bohra', '/in/sakshi-bohra-a035801b2/', 'https://www.linkedin.com/in/sakshi-bohra-a035801b2/'], [4, 'Pooja Sharma', '/in/pooja-sharma-94245715/', 'https://www.linkedin.com/in/pooja-sharma-94245715/'], [5, 'Shubham Singh', '/in/shubhamsingh-/', 'https://www.linkedin.com/in/shubhamsingh-/'], [6, 'Yash Kumawat', '/in/yash-kumawat-990805193/', 'https://www.linkedin.com/in/yash-kumawat-990805193/'], [7, 'Shubham Vaishnav ☁', '/in/shubhamvsnv/', 'https://www.linkedin.com/in/shubhamvsnv/'], [8, 'Snigdhojyoti Banerjee', '/in/realsnigdhojyoti/', 'https://www.linkedin.com/in/realsnigdhojyoti/'], [9, 'Nabin Yadav', '/in/nabin-yadav-3b8071141/', 'https://www.linkedin.com/in/nabin-yadav-3b8071141/'], [10, 'Jalen Patel 📈', '/in/jalenpatel/', 'https://www.linkedin.com/in/jalenpatel/'], [11, 'Khadeer Abdul', '/in/khadeer-abdul-38b0741a7/', 'https://www.linkedin.com/in/khadeer-abdul-38b0741a7/'], [12, 'HENG CHING TEK ✅ Whitepaper and Content Writer', '/in/whitepaper-content-writer/', 'https://www.linkedin.com/in/whitepaper-content-writer/'], [13, 'Praveen Sharma', '/in/praveen-sharma-3628761ba/', 'https://www.linkedin.com/in/praveen-sharma-3628761ba/'], [14, 'Ritika Pareek', '/in/ritika-pareek26/', 'https://www.linkedin.com/in/ritika-pareek26/'], [15, 'Bharti Gadhwal', '/in/bhartigadhwal/', 'https://www.linkedin.com/in/bhartigadhwal/'], [16, 'PRATHAM KISHORE', '/in/pratham-kishore-37b48a154/', 'https://www.linkedin.com/in/pratham-kishore-37b48a154/'], [17, 'Nilesh Halge', '/in/nileshhalge/', 'https://www.linkedin.com/in/nileshhalge/'], [18, 'Siddharth Tilwani', '/in/siddharth-tilwani-2880071b0/', 'https://www.linkedin.com/in/siddharth-tilwani-2880071b0/'], [19, 'Bhanu Gupta', '/in/bhanu-gupta-32a2a9162/', 'https://www.linkedin.com/in/bhanu-gupta-32a2a9162/'], [20, 'Shubham Tawar', '/in/shubham-tawar-939864194/', 'https://www.linkedin.com/in/shubham-tawar-939864194/'], [21, 'Amar Gosavi', '/in/amar-gosavi-b530941aa/', 'https://www.linkedin.com/in/amar-gosavi-b530941aa/'], [22, 'Ishan Jain', '/in/ishan-jain-58712a159/', 'https://www.linkedin.com/in/ishan-jain-58712a159/'], [23, 'Vivek Pisal', '/in/vivek-pisal-77666b19b/', 'https://www.linkedin.com/in/vivek-pisal-77666b19b/'], [24, 'Winston Pais', '/in/winston-pais-08537a16a/', 'https://www.linkedin.com/in/winston-pais-08537a16a/'], [25, 'Sanjana Ghosh', '/in/sanjana-ghosh-21315b57/', 'https://www.linkedin.com/in/sanjana-ghosh-21315b57/'], [26, 'Kushal Verma', '/in/kushal-verma-87104a1b0/', 'https://www.linkedin.com/in/kushal-verma-87104a1b0/'], [27, 'Aditya Kumar', '/in/aditya34608/', 'https://www.linkedin.com/in/aditya34608/'], [28, 'Sannidhya Baweja', '/in/sannidhyabaweja/', 'https://www.linkedin.com/in/sannidhyabaweja/'], [29, 'Vaishnavi Pandey', '/in/vaishnavi-pandey-8687391b0/', 'https://www.linkedin.com/in/vaishnavi-pandey-8687391b0/'], [30, 'Dhanvi Joshi', '/in/dhanvi-joshi-b31b171a4/', 'https://www.linkedin.com/in/dhanvi-joshi-b31b171a4/'], [31, 'Ashutosh Tiwari', '/in/ashutosh-tiwari-b176969a/', 'https://www.linkedin.com/in/ashutosh-tiwari-b176969a/'], [32, 'Amey Limaye', '/in/amey-limaye-1b6270176/', 'https://www.linkedin.com/in/amey-limaye-1b6270176/'], [33, 'Arslan Ashraf', '/in/arslanashrafrana/', 'https://www.linkedin.com/in/arslanashrafrana/'], [34, 'Rohan Kumar', '/in/rohankumar009/', 'https://www.linkedin.com/in/rohankumar009/'], [35, 'Divyanjali Anisha', '/in/divyanjali-anisha-8abba819b/', 'https://www.linkedin.com/in/divyanjali-anisha-8abba819b/'], [36, 'Sheetal Sisodiya', '/in/sheetal-sisodiya-179b661a8/', 'https://www.linkedin.com/in/sheetal-sisodiya-179b661a8/'], [37, 'Meenakshi Chauhan', '/in/meenakshi-chauhan-594449193/', 'https://www.linkedin.com/in/meenakshi-chauhan-594449193/'], [38, 'Pradeep Poonia', '/in/pradeep-poonia-07246385/', 'https://www.linkedin.com/in/pradeep-poonia-07246385/'], [39, 'Kshitij Goswami', '/in/kshitij-goswami-893b7387/', 'https://www.linkedin.com/in/kshitij-goswami-893b7387/'], [40, 'Vikas kumawat', '/in/vikas-kumawat-aab4b0b6/', 'https://www.linkedin.com/in/vikas-kumawat-aab4b0b6/']]\n"
     ]
    }
   ],
   "source": [
    "row_list = []\n",
    "header = ['S.NO', 'NAME', 'ID', 'PROFILE_URL']\n",
    "row_list.append(header)\n",
    "\n",
    "sno = 1\n",
    "for connection in connection_list:\n",
    "    con_name = connection.find('span', {\"class\": \"mn-connection-card__name\"}).text.lstrip().rstrip()\n",
    "    con_id = connection.a['href']\n",
    "    con_profile = 'https://www.linkedin.com'+con_id\n",
    "    \n",
    "    row_list.append([sno, con_name, con_id, con_profile])\n",
    "    sno+=1\n",
    "\n",
    "print(row_list)\n",
    "\n",
    "#     print(con_name, end=' | ')\n",
    "#     print(con_id, end=' | ')\n",
    "#     print(con_profile, end='\\n')"
   ]
  },
  {
   "cell_type": "code",
   "execution_count": 33,
   "metadata": {},
   "outputs": [],
   "source": [
    "# writting connection data into csv\n",
    "import csv\n",
    "with open('profile_name_url.csv', 'w', newline='', encoding=\"utf-8\") as file:\n",
    "    writer = csv.writer(file)\n",
    "    writer.writerows(row_list)"
   ]
  },
  {
   "cell_type": "code",
   "execution_count": 42,
   "metadata": {},
   "outputs": [
    {
     "name": "stdout",
     "output_type": "stream",
     "text": [
      "https://www.linkedin.com/in/rakhi-sharma-20248382/\n",
      "rakhiec1202@poornima.edu.in\n",
      "not avail\n"
     ]
    },
    {
     "name": "stdin",
     "output_type": "stream",
     "text": [
      " 1\n"
     ]
    },
    {
     "name": "stdout",
     "output_type": "stream",
     "text": [
      "https://www.linkedin.com/in/ayushi-bhargava-6b7100171/\n",
      "2016pietceayushi020@poornima.org\n",
      "8619705591\n"
     ]
    },
    {
     "name": "stdin",
     "output_type": "stream",
     "text": [
      " 2\n"
     ]
    },
    {
     "name": "stdout",
     "output_type": "stream",
     "text": [
      "[['SNO', 'NAME', 'EMAIL', 'MOBILE NO'], [1, 'rakhi sharma', 'rakhiec1202@poornima.edu.in', 'not avail'], [1, 'Ayushi Bhargava', '2016pietceayushi020@poornima.org', '8619705591']]\n"
     ]
    }
   ],
   "source": [
    "# extracting more detail about connection like email and mobile no\n",
    "row_list2 = []\n",
    "header = ['SNO', 'NAME', 'EMAIL', 'MOBILE NO']\n",
    "row_list2.append(header)\n",
    "sno = 1\n",
    "\n",
    "for conn in range(1, len(row_list)):\n",
    "    profile_url = row_list[conn][3]\n",
    "    print(profile_url)\n",
    "    contact_info = profile_url+'detail/contact-info/'\n",
    "    \n",
    "    browser.get(contact_info)\n",
    "    soup = BeautifulSoup(browser.page_source, 'html.parser')\n",
    "    contact_info_div = soup.find(\"div\", {\"id\": \"ember117\"})\n",
    "    \n",
    "    email = 'none'\n",
    "    try:\n",
    "        email = contact_info_div.find('section', attrs={'class':'ci-email'}).a.text.lstrip().rstrip()\n",
    "    except:\n",
    "        email = 'not avail'\n",
    "    print(email)\n",
    "    \n",
    "    number = 'none'\n",
    "    try:\n",
    "        number = contact_info_div.find('section', attrs={'class':'ci-phone'}).ul.li.span.text.lstrip().rstrip()\n",
    "    except:\n",
    "        number = 'not avail'\n",
    "    print(number)\n",
    "    \n",
    "    row_list2.append([sno, row_list[conn][1], email, number])\n",
    "    \n",
    "    command = int(input())\n",
    "    if(command==1):\n",
    "        continue\n",
    "    else:\n",
    "        break\n",
    "    \n",
    "print(row_list2)"
   ]
  },
  {
   "cell_type": "code",
   "execution_count": 43,
   "metadata": {},
   "outputs": [],
   "source": [
    "# writting connection data into csv\n",
    "import csv\n",
    "with open('profile_email_number.csv', 'w', newline='', encoding=\"utf-8\") as file:\n",
    "    writer = csv.writer(file)\n",
    "    writer.writerows(row_list2)"
   ]
  }
 ],
 "metadata": {
  "kernelspec": {
   "display_name": "Python 3",
   "language": "python",
   "name": "python3"
  },
  "language_info": {
   "codemirror_mode": {
    "name": "ipython",
    "version": 3
   },
   "file_extension": ".py",
   "mimetype": "text/x-python",
   "name": "python",
   "nbconvert_exporter": "python",
   "pygments_lexer": "ipython3",
   "version": "3.9.0"
  }
 },
 "nbformat": 4,
 "nbformat_minor": 4
}
